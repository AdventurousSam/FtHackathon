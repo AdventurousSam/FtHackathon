{
 "cells": [
  {
   "cell_type": "code",
   "execution_count": 24,
   "metadata": {},
   "outputs": [],
   "source": [
    "from google import generativeai as genai\n",
    "from dotenv import load_dotenv\n",
    "import requests\n",
    "import os\n"
   ]
  },
  {
   "cell_type": "code",
   "execution_count": 25,
   "metadata": {},
   "outputs": [],
   "source": [
    "\n",
    "load_dotenv()\n",
    "genai.configure(api_key=os.getenv('GOOGLE_API_KEY'))"
   ]
  },
  {
   "cell_type": "code",
   "execution_count": 43,
   "metadata": {},
   "outputs": [],
   "source": [
    "def get_gemini_response(prompt,input_html,specs):\n",
    "    model=model=genai.GenerativeModel('gemini-pro')\n",
    "    response=model.generate_content([prompt[0],input_html,specs])\n",
    "    return response.text"
   ]
  },
  {
   "cell_type": "code",
   "execution_count": 44,
   "metadata": {},
   "outputs": [],
   "source": [
    "x=requests.get('https://www.starbucks.com/')\n",
    "prompt=[f\"\"\"\n",
    "        Hey you are expert in understanding about the website and creating a short summary.\n",
    "        You will be given a url you can also open that url for getting me information.\n",
    "        you donot have to give any imformation about the code of the website unless asked specifically.\n",
    "\"\"\"]"
   ]
  },
  {
   "cell_type": "code",
   "execution_count": 47,
   "metadata": {},
   "outputs": [],
   "source": [
    "response=get_gemini_response(prompt,'https://www.starbucks.com/','i want more variety')"
   ]
  },
  {
   "cell_type": "code",
   "execution_count": 48,
   "metadata": {},
   "outputs": [
    {
     "name": "stdout",
     "output_type": "stream",
     "text": [
      "Starbucks is a global coffeehouse chain known for its extensive menu of coffee drinks, teas, pastries, and other food items. The website provides a comprehensive overview of the company's offerings, including information on its coffee beans, brewing methods, and signature drinks. Customers can also find details on Starbucks' loyalty program, gift cards, and other special promotions. Additionally, the website offers a variety of resources for coffee enthusiasts, such as brewing guides, coffee pairing suggestions, and the ability to purchase coffee beans and equipment online.\n"
     ]
    }
   ],
   "source": [
    "print(response)"
   ]
  }
 ],
 "metadata": {
  "kernelspec": {
   "display_name": "Python 3",
   "language": "python",
   "name": "python3"
  },
  "language_info": {
   "codemirror_mode": {
    "name": "ipython",
    "version": 3
   },
   "file_extension": ".py",
   "mimetype": "text/x-python",
   "name": "python",
   "nbconvert_exporter": "python",
   "pygments_lexer": "ipython3",
   "version": "3.11.0"
  }
 },
 "nbformat": 4,
 "nbformat_minor": 2
}
